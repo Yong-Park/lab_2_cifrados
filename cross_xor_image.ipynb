{
  "nbformat": 4,
  "nbformat_minor": 0,
  "metadata": {
    "colab": {
      "provenance": [],
      "authorship_tag": "ABX9TyMm8tgolCjfw0rixi5NxuKp",
      "include_colab_link": true
    },
    "kernelspec": {
      "name": "python3",
      "display_name": "Python 3"
    },
    "language_info": {
      "name": "python"
    }
  },
  "cells": [
    {
      "cell_type": "markdown",
      "metadata": {
        "id": "view-in-github",
        "colab_type": "text"
      },
      "source": [
        "<a href=\"https://colab.research.google.com/github/Yong-Park/lab_2_cifrados/blob/main/cross_xor_image.ipynb\" target=\"_parent\"><img src=\"https://colab.research.google.com/assets/colab-badge.svg\" alt=\"Open In Colab\"/></a>"
      ]
    },
    {
      "cell_type": "code",
      "source": [
        "from PIL import Image"
      ],
      "metadata": {
        "id": "51f7I3jBLvfn"
      },
      "execution_count": null,
      "outputs": []
    },
    {
      "cell_type": "code",
      "source": [
        "def xor_images(image1, image2):\n",
        "    # Abrir las imágenes\n",
        "    img1 = Image.open(image1)\n",
        "    img2 = Image.open(image2)\n",
        "\n",
        "    # Asegurarse de que las imágenes tengan el mismo tamaño\n",
        "    img2 = img2.resize(img1.size)\n",
        "\n",
        "    # Convertir las imágenes a modo \"RGB\" si no lo están\n",
        "    img1 = img1.convert(\"RGB\")\n",
        "    img2 = img2.convert(\"RGB\")\n",
        "\n",
        "    # Convertir las imágenes en matrices de píxeles\n",
        "    pixels1 = img1.load()\n",
        "    pixels2 = img2.load()\n",
        "\n",
        "    # Crear una nueva imagen para almacenar el resultado\n",
        "    result_img = Image.new(\"RGB\", img1.size)\n",
        "    result_pixels = result_img.load()\n",
        "\n",
        "    # Aplicar la operación XOR píxel a píxel\n",
        "    for i in range(img1.size[0]):\n",
        "        for j in range(img1.size[1]):\n",
        "            r1, g1, b1 = pixels1[i, j]\n",
        "            r2, g2, b2 = pixels2[i, j]\n",
        "            # Aplicar XOR a cada componente de color\n",
        "            result_pixels[i, j] = (r1 ^ r2, g1 ^ g2, b1 ^ b2)\n",
        "\n",
        "    return result_img"
      ],
      "metadata": {
        "id": "HezfotdRNj0q"
      },
      "execution_count": null,
      "outputs": []
    },
    {
      "cell_type": "code",
      "source": [
        "# Rutas de las imágenes\n",
        "image_path1 = \"/content/tux.png\"\n",
        "image_path2 = \"/content/sign.png\"\n",
        "\n",
        "# Nombre del archivo de salida\n",
        "output_image_path = \"cross_xor.jpg\"\n",
        "\n",
        "# Aplicar XOR a las imágenes\n",
        "result_image = xor_images(image_path1, image_path2)\n",
        "\n",
        "# Guardar la imagen resultante\n",
        "result_image.save(output_image_path)\n",
        "\n",
        "print(\"Imagen XOR guardada como:\", output_image_path)"
      ],
      "metadata": {
        "colab": {
          "base_uri": "https://localhost:8080/"
        },
        "id": "REx9DvhvMAT0",
        "outputId": "c3306d73-e22c-4858-8e15-5a9fd4376a28"
      },
      "execution_count": null,
      "outputs": [
        {
          "output_type": "stream",
          "name": "stdout",
          "text": [
            "Imagen XOR guardada como: cross_xor.jpg\n"
          ]
        }
      ]
    }
  ]
}